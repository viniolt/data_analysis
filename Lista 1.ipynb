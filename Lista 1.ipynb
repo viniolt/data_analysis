{
 "cells": [
  {
   "metadata": {},
   "cell_type": "markdown",
   "source": [
    "## Abaixo temos descritas medidas estatísticas e visualizações gráficas.\n",
    " • Media.\n",
    "\n",
    " • Mediana.\n",
    "\n",
    " • Variância (Populacional e amostral).\n",
    "\n",
    " • Desvio Padrão (Populacional e amostral).\n",
    "\n",
    " • Coeficiente de variação (Populacional e amostral).\n",
    "\n",
    " • Quartis.\n",
    "\n",
    " • Histograma.\n",
    "\n",
    " • Box plot.\n"
   ],
   "id": "a78ab696023528b9"
  },
  {
   "metadata": {},
   "cell_type": "markdown",
   "source": "### Construa uma base de dados numérica simulada de dimensão + ou – 15. Calcular as medidas elencadas acima, assim como fazer os gráficos citados.",
   "id": "544cdc1f369c0e5a"
  },
  {
   "metadata": {},
   "cell_type": "markdown",
   "source": "### • Item b - Usando funções pré-programadas na linguagem Python (Podem ser usados pacotes).\n",
   "id": "8eedb45fce8f06ec"
  },
  {
   "metadata": {
    "jupyter": {
     "is_executing": true
    }
   },
   "cell_type": "code",
   "source": [
    "import numpy as np\n",
    "import pandas as pd\n",
    "import matplotlib.pyplot as plt"
   ],
   "id": "74feaa54c9636560",
   "outputs": [],
   "execution_count": null
  },
  {
   "cell_type": "code",
   "id": "initial_id",
   "metadata": {
    "collapsed": true,
    "ExecuteTime": {
     "end_time": "2025-03-31T00:13:26.412850Z",
     "start_time": "2025-03-31T00:13:26.410024Z"
    }
   },
   "source": [
    "\n",
    "db = np.random.randint(1.0, 100.0, 15)\n",
    "\n",
    "print(db)"
   ],
   "outputs": [
    {
     "name": "stdout",
     "output_type": "stream",
     "text": [
      "[ 6 58 76 58 23  6 75 33 89 41  2 97  3 43 59]\n"
     ]
    }
   ],
   "execution_count": 2
  },
  {
   "metadata": {
    "ExecuteTime": {
     "end_time": "2025-03-31T18:46:29.221047Z",
     "start_time": "2025-03-31T18:46:29.218767Z"
    }
   },
   "cell_type": "code",
   "source": [
    "db = [6,58,76,58,23,6,75,33,89,41,2,97,3,43,59]\n",
    "print(np.sort(db))"
   ],
   "id": "1841ddbcdba47a71",
   "outputs": [
    {
     "name": "stdout",
     "output_type": "stream",
     "text": [
      "[ 2  3  6  6 23 33 41 43 58 58 59 75 76 89 97]\n"
     ]
    }
   ],
   "execution_count": 20
  },
  {
   "metadata": {
    "ExecuteTime": {
     "end_time": "2025-03-31T18:46:29.925556Z",
     "start_time": "2025-03-31T18:46:29.921575Z"
    }
   },
   "cell_type": "code",
   "source": [
    "media = np.mean(db)\n",
    "print(\"media = \", media)\n",
    "mediana = np.median(db)\n",
    "print(\"mediana = \", mediana)\n",
    "\n",
    "var_populacional = np.var(db, ddof=0)\n",
    "print(\"variacão populacional = \", var_populacional)\n",
    "\n",
    "var_amostral = np.var(db, ddof=1)\n",
    "print(\"variacão amostral\", var_amostral)\n",
    "\n",
    "desvio_padrao_populacional = np.std(db, ddof=0)\n",
    "print(\"desvio padrao populacional = \", desvio_padrao_populacional)\n",
    "\n",
    "desvio_padrao_amostral = np.std(db, ddof=1)\n",
    "print(\"desvio padrao amostral = \", desvio_padrao_amostral)\n",
    "\n",
    "minimo = np.min(db)\n",
    "primeiro_quartil = np.percentile(db, 25)\n",
    "segundo_quartil = np.percentile(db, 50)\n",
    "terceiro_quartil = np.percentile(db, 75)\n",
    "maximo = np.max(db)\n",
    "print(\"minimo = \", minimo, \"\\nprimeiro quartil = \", primeiro_quartil, \"\\nsegundo quartil = \", segundo_quartil, \"\\nterceiro quartil = \", terceiro_quartil, \"\\nmaximo = \", maximo)"
   ],
   "id": "6daabfaefe985831",
   "outputs": [
    {
     "name": "stdout",
     "output_type": "stream",
     "text": [
      "media =  44.6\n",
      "mediana =  43.0\n",
      "variacão populacional =  955.7066666666667\n",
      "variacão amostral 1023.9714285714286\n",
      "desvio padrao populacional =  30.91450576455439\n",
      "desvio padrao amostral =  31.99955356831449\n",
      "minimo =  2 \n",
      "primeiro quartil =  14.5 \n",
      "segundo quartil =  43.0 \n",
      "terceiro quartil =  67.0 \n",
      "maximo =  97\n"
     ]
    }
   ],
   "execution_count": 21
  },
  {
   "metadata": {
    "ExecuteTime": {
     "end_time": "2025-03-31T19:32:27.352108Z",
     "start_time": "2025-03-31T19:32:27.299397Z"
    }
   },
   "cell_type": "code",
   "source": [
    "bins = [10,20,30,40,50,60,70,80,90,100]\n",
    "plt.hist(db, color='blue', edgecolor='black', bins=bins)\n",
    "plt.show()"
   ],
   "id": "a47f44cdbb45578c",
   "outputs": [
    {
     "data": {
      "text/plain": [
       "<Figure size 640x480 with 1 Axes>"
      ],
      "image/png": "[encoded data removed]"
     },
     "metadata": {},
     "output_type": "display_data"
    }
   ],
   "execution_count": 50
  },
  {
   "metadata": {
    "ExecuteTime": {
     "end_time": "2025-03-31T19:54:09.366109Z",
     "start_time": "2025-03-31T19:54:09.316700Z"
    }
   },
   "cell_type": "code",
   "source": [
    "plt.boxplot(db)\n",
    "plt.title('Boxplot')\n",
    "plt.show()"
   ],
   "id": "b9f24b9a303d5f6d",
   "outputs": [
    {
     "data": {
      "text/plain": [
       "<Figure size 640x480 with 1 Axes>"
      ],
      "image/png": "[encoded data removed]"
     },
     "metadata": {},
     "output_type": "display_data"
    }
   ],
   "execution_count": 51
  },
  {
   "metadata": {},
   "cell_type": "markdown",
   "source": "# Item c - Usando funções programadas pelo estudante (Com exceção das visualizações gráficas).",
   "id": "94eb5074e40b51b3"
  },
  {
   "metadata": {
    "ExecuteTime": {
     "end_time": "2025-03-31T21:16:31.332464Z",
     "start_time": "2025-03-31T21:16:31.328942Z"
    }
   },
   "cell_type": "code",
   "source": [
    "def media(db):\n",
    "    media = 0\n",
    "    for i in db:\n",
    "        media += i\n",
    "    return media / len(db)\n",
    "\n",
    "def mediana(db):\n",
    "    db.sort()\n",
    "    return db[len(db) // 2]\n",
    "\n",
    "def var_populacional(db):\n",
    "    var = 0\n",
    "    for i in db:\n",
    "        var += (i - media(db)) ** 2\n",
    "    return var / (len(db))\n",
    "\n",
    "def var_amostral(db):\n",
    "    var = 0\n",
    "    for i in db:\n",
    "        var += (i - media(db)) ** 2\n",
    "    return var / (len(db) - 1)\n",
    "\n",
    "def desvio_padrao_populacional(db):\n",
    "    dpp = 0\n",
    "    for i in db:\n",
    "        dpp += (i - media(db)) ** 2\n",
    "    sqrtdpp = np.sqrt(dpp / (len(db)))\n",
    "    return sqrtdpp\n",
    "def desvio_padrao_amostral(db):\n",
    "    dpa = 0\n",
    "    for i in db:\n",
    "        dpa += (9 - media(db)) ** 2\n",
    "    sqrtdpa = np.sqrt(dpa / (len(db) - 1))\n",
    "    return sqrtdpa\n",
    "\n",
    "def coeficiente_var_populacional(db):\n",
    "    return var_populacional(db) / media(db) ** 2\n",
    "\n",
    "def coeficiente_var_amostral(db):\n",
    "    return var_amostral(db) / media(db) ** 2\n",
    "\n",
    "def quartis(db):\n",
    "    q1 = db[len(db) // 4]\n",
    "    q2 = db[len(db) // 2]\n",
    "    q3 = db[3 * len(db) // 4]\n",
    "    return q1, q2, q3"
   ],
   "id": "951a91c6677a8921",
   "outputs": [],
   "execution_count": 90
  },
  {
   "metadata": {
    "ExecuteTime": {
     "end_time": "2025-03-31T21:18:47.384966Z",
     "start_time": "2025-03-31T21:18:47.382377Z"
    }
   },
   "cell_type": "code",
   "source": [
    "print(\"Média = \", media(db))\n",
    "print(\"Mediana = \", mediana(db))\n",
    "print(\"Varianca Populacional = \", var_populacional(db))\n",
    "print(\"Varianca Amostral = \", var_amostral(db))\n",
    "print(\"Desvio Padrao Populacional = \", desvio_padrao_populacional(db))\n",
    "print(\"Desvio Padrao Amostral = \", desvio_padrao_amostral(db))\n",
    "print(\"Coeficiente de Variacao Populacional = \", coeficiente_var_populacional(db))\n",
    "print(\"Coeficiente de Variacao Amostral = \", coeficiente_var_amostral(db))\n",
    "print(\"Quartis = \", quartis(db))"
   ],
   "id": "c1ac0ed05af06ac7",
   "outputs": [
    {
     "name": "stdout",
     "output_type": "stream",
     "text": [
      "Média =  44.6\n",
      "Mediana =  43\n",
      "Varianca Populacional =  955.7066666666668\n",
      "Varianca Amostral =  1023.9714285714288\n",
      "Desvio Padrao Populacional =  30.914505764554395\n",
      "Desvio Padrao Amostral =  36.84950086888172\n",
      "Coeficiente de Variacao Populacional =  0.4804574125091329\n",
      "Coeficiente de Variacao Amostral =  0.5147757991169281\n",
      "Quartis =  (6, 43, 75)\n"
     ]
    }
   ],
   "execution_count": 99
  },
  {
   "metadata": {},
   "cell_type": "markdown",
   "source": "# 2. Encontre e use uma base de dados real (numérica) com dimensão maior que 100. Com essa base de dados repita o exercício anterior.",
   "id": "d255bfa2f76882da"
  },
  {
   "metadata": {},
   "cell_type": "markdown",
   "source": "## Item a - Usando funções pré-programadas na linguagem Python.",
   "id": "731448269e288a25"
  },
  {
   "metadata": {
    "ExecuteTime": {
     "end_time": "2025-03-31T21:01:46.483052Z",
     "start_time": "2025-03-31T21:01:45.456268Z"
    }
   },
   "cell_type": "code",
   "source": [
    "import mlcroissant as mlc\n",
    "# Fetch the Croissant JSON-LD\n",
    "croissant_dataset = mlc.Dataset('https://www.kaggle.com/datasets/atharvasoundankar/chocolate-sales/croissant/download')\n",
    "\n",
    "# Check what record sets are in the dataset\n",
    "record_sets = croissant_dataset.metadata.record_sets\n",
    "print(record_sets)\n",
    "\n",
    "# Fetch the records and put them in a DataFrame\n",
    "df = pd.DataFrame(croissant_dataset.records(record_set=record_sets[0].uuid))\n"
   ],
   "id": "7639c70959e33c3b",
   "outputs": [
    {
     "name": "stderr",
     "output_type": "stream",
     "text": [
      "WARNING:absl:WARNING: The JSON-LD `@context` is not standard. Refer to the official @context (e.g., from the example datasets in https://github.com/mlcommons/croissant/tree/main/datasets/1.0). The different keys are: {'examples', 'rai'}\n",
      "WARNING:absl:Found the following 1 warning(s) during the validation:\n",
      "  -  [Metadata(Chocolate Sales Data 📊🍫)] Property \"http://mlcommons.org/croissant/citeAs\" is recommended, but does not exist.\n"
     ]
    },
    {
     "name": "stdout",
     "output_type": "stream",
     "text": [
      "[RecordSet(uuid=\"Chocolate+Sales.csv\")]\n"
     ]
    }
   ],
   "execution_count": 61
  },
  {
   "metadata": {
    "ExecuteTime": {
     "end_time": "2025-03-31T21:01:52.043841Z",
     "start_time": "2025-03-31T21:01:52.041170Z"
    }
   },
   "cell_type": "code",
   "source": [
    "caixas = df['Chocolate+Sales.csv/Boxes+Shipped']\n",
    "len(caixas)"
   ],
   "id": "309acd2d36ad1577",
   "outputs": [
    {
     "data": {
      "text/plain": [
       "1094"
      ]
     },
     "execution_count": 62,
     "metadata": {},
     "output_type": "execute_result"
    }
   ],
   "execution_count": 62
  },
  {
   "metadata": {
    "ExecuteTime": {
     "end_time": "2025-03-31T21:01:57.597831Z",
     "start_time": "2025-03-31T21:01:57.595642Z"
    }
   },
   "cell_type": "code",
   "source": [
    "media_caixas = np.mean(caixas)\n",
    "print(\"Média de caixas adquiridas\", media_caixas)"
   ],
   "id": "2c9d978ea87b9301",
   "outputs": [
    {
     "name": "stdout",
     "output_type": "stream",
     "text": [
      "Média de caixas adquiridas 161.7979890310786\n"
     ]
    }
   ],
   "execution_count": 63
  },
  {
   "metadata": {
    "ExecuteTime": {
     "end_time": "2025-03-31T21:02:02.112382Z",
     "start_time": "2025-03-31T21:02:02.109716Z"
    }
   },
   "cell_type": "code",
   "source": [
    "mediana_caixas = np.median(caixas)\n",
    "print(\"Mediana de caixas adquiridas\", mediana_caixas)"
   ],
   "id": "2db18aba1692cb0e",
   "outputs": [
    {
     "name": "stdout",
     "output_type": "stream",
     "text": [
      "Mediana de caixas adquiridas 135.0\n"
     ]
    }
   ],
   "execution_count": 64
  },
  {
   "metadata": {
    "ExecuteTime": {
     "end_time": "2025-03-31T21:02:08.924011Z",
     "start_time": "2025-03-31T21:02:08.922009Z"
    }
   },
   "cell_type": "code",
   "source": [
    "varianca_populacional_caixas = np.var(caixas)\n",
    "print(\"Varianca populacional de caixas adquiridas\", varianca_populacional_caixas)"
   ],
   "id": "96759854752c120a",
   "outputs": [
    {
     "name": "stdout",
     "output_type": "stream",
     "text": [
      "Varianca populacional de caixas adquiridas 14759.475644950513\n"
     ]
    }
   ],
   "execution_count": 65
  },
  {
   "metadata": {
    "ExecuteTime": {
     "end_time": "2025-03-31T21:02:13.553529Z",
     "start_time": "2025-03-31T21:02:13.550766Z"
    }
   },
   "cell_type": "code",
   "source": [
    "varianca_amostral_caixas = np.var(caixas, ddof=1)\n",
    "print(\"Varianca amostral de caixas adquiridas\", varianca_amostral_caixas)"
   ],
   "id": "c62a85e5854e7edf",
   "outputs": [
    {
     "name": "stdout",
     "output_type": "stream",
     "text": [
      "Varianca amostral de caixas adquiridas 14772.979282320093\n"
     ]
    }
   ],
   "execution_count": 66
  },
  {
   "metadata": {
    "ExecuteTime": {
     "end_time": "2025-03-31T21:02:21.083582Z",
     "start_time": "2025-03-31T21:02:21.081410Z"
    }
   },
   "cell_type": "code",
   "source": [
    "desvio_padrao_populacional_caixas = np.std(caixas)\n",
    "print(\"Desvio padrao de caixas adquiridas\", desvio_padrao_populacional_caixas)"
   ],
   "id": "342550085ae91088",
   "outputs": [
    {
     "name": "stdout",
     "output_type": "stream",
     "text": [
      "Desvio padrao de caixas adquiridas 121.48858236456014\n"
     ]
    }
   ],
   "execution_count": 67
  },
  {
   "metadata": {
    "ExecuteTime": {
     "end_time": "2025-03-31T21:02:26.058759Z",
     "start_time": "2025-03-31T21:02:26.056010Z"
    }
   },
   "cell_type": "code",
   "source": [
    "desvio_padrao_amostral_caixas = np.std(caixas, ddof=1)\n",
    "print(\"Desvio padrao amostral de caixas adquiridas\", desvio_padrao_amostral_caixas)"
   ],
   "id": "7058ec32da5fb2c8",
   "outputs": [
    {
     "name": "stdout",
     "output_type": "stream",
     "text": [
      "Desvio padrao amostral de caixas adquiridas 121.54414540536328\n"
     ]
    }
   ],
   "execution_count": 68
  },
  {
   "metadata": {
    "ExecuteTime": {
     "end_time": "2025-03-31T21:02:31.325994Z",
     "start_time": "2025-03-31T21:02:31.322527Z"
    }
   },
   "cell_type": "code",
   "source": [
    "coeficiente_variacao_populacional_caixas = desvio_padrao_populacional_caixas / np.mean(caixas)\n",
    "print(\"Coeficiente de variacao de caixas adquiridas\", coeficiente_variacao_populacional_caixas*100, \"%\")"
   ],
   "id": "b9eeff6196d311de",
   "outputs": [
    {
     "name": "stdout",
     "output_type": "stream",
     "text": [
      "Coeficiente de variacao de caixas adquiridas 75.08658364179315 %\n"
     ]
    }
   ],
   "execution_count": 69
  },
  {
   "metadata": {
    "ExecuteTime": {
     "end_time": "2025-03-31T21:02:36.264336Z",
     "start_time": "2025-03-31T21:02:36.261855Z"
    }
   },
   "cell_type": "code",
   "source": [
    "coeficiente_variacao_amostral = desvio_padrao_amostral_caixas / np.mean(caixas)\n",
    "print(\"Coeficiente de variacao amostral de caixas adquiridas\", coeficiente_variacao_amostral*100, \"%\")"
   ],
   "id": "d04e29fc77955e89",
   "outputs": [
    {
     "name": "stdout",
     "output_type": "stream",
     "text": [
      "Coeficiente de variacao amostral de caixas adquiridas 75.1209246377078 %\n"
     ]
    }
   ],
   "execution_count": 70
  },
  {
   "metadata": {
    "ExecuteTime": {
     "end_time": "2025-03-31T21:02:41.396958Z",
     "start_time": "2025-03-31T21:02:41.394156Z"
    }
   },
   "cell_type": "code",
   "source": [
    "quartis = np.percentile(caixas, [25, 50, 75])\n",
    "print(\"min\", np.min(caixas))\n",
    "print(\"max\", np.max(caixas))\n",
    "print(\"Q1: \", quartis[0])\n",
    "print(\"Q2: \", quartis[1])\n",
    "print(\"Q3: \", quartis[2])"
   ],
   "id": "b5abd913e6ad87a2",
   "outputs": [
    {
     "name": "stdout",
     "output_type": "stream",
     "text": [
      "min 1\n",
      "max 709\n",
      "Q1:  70.0\n",
      "Q2:  135.0\n",
      "Q3:  228.75\n"
     ]
    }
   ],
   "execution_count": 71
  },
  {
   "metadata": {
    "ExecuteTime": {
     "end_time": "2025-03-31T21:02:46.847925Z",
     "start_time": "2025-03-31T21:02:46.772331Z"
    }
   },
   "cell_type": "code",
   "source": [
    "plt.figure(figsize=(10, 6))\n",
    "plt.hist(caixas, bins=6, edgecolor='black', color='red')\n",
    "plt.title('Histograma das Caixas Adquiridas')\n",
    "plt.xlabel('Caixas Adquiridas')\n",
    "plt.ylabel('Frequência com que foram adquiridas')\n",
    "plt.grid(True, alpha=0.2)\n",
    "plt.show()"
   ],
   "id": "13963b1a1b5947cb",
   "outputs": [
    {
     "data": {
      "text/plain": [
       "<Figure size 1000x600 with 1 Axes>"
      ],
      "image/png": "[encoded data removed]"
     },
     "metadata": {},
     "output_type": "display_data"
    }
   ],
   "execution_count": 72
  },
  {
   "metadata": {
    "ExecuteTime": {
     "end_time": "2025-03-31T21:02:52.283345Z",
     "start_time": "2025-03-31T21:02:52.221604Z"
    }
   },
   "cell_type": "code",
   "source": [
    "plt.show()\n",
    "plt.figure(figsize=(10, 6))\n",
    "plt.boxplot(caixas)\n",
    "plt.title('Boxplot das Caixas Adquiridas')\n",
    "plt.ylabel('Valores')\n",
    "plt.grid(True, alpha=0.2)\n",
    "plt.show()"
   ],
   "id": "b31715f9cb29429e",
   "outputs": [
    {
     "data": {
      "text/plain": [
       "<Figure size 1000x600 with 1 Axes>"
      ],
      "image/png": "[encoded data removed]"
     },
     "metadata": {},
     "output_type": "display_data"
    }
   ],
   "execution_count": 73
  },
  {
   "metadata": {},
   "cell_type": "markdown",
   "source": "## • Item b - Usando funções programadas pelo estudante (Com exceção das visualizações gráficas).\n",
   "id": "7020e6b0d46880c8"
  },
  {
   "metadata": {
    "ExecuteTime": {
     "end_time": "2025-03-31T21:14:59.317114Z",
     "start_time": "2025-03-31T21:14:59.315019Z"
    }
   },
   "cell_type": "code",
   "source": "print(\"Média\", media(caixas))",
   "id": "ddbea53dfe072acd",
   "outputs": [
    {
     "name": "stdout",
     "output_type": "stream",
     "text": [
      "Média 161.7979890310786\n"
     ]
    }
   ],
   "execution_count": 85
  },
  {
   "metadata": {
    "ExecuteTime": {
     "end_time": "2025-03-31T21:14:31.044215Z",
     "start_time": "2025-03-31T21:14:31.041564Z"
    }
   },
   "cell_type": "code",
   "source": [
    "caixas_sorted = caixas.sort_values()\n",
    "mediana_caixas_sorted = caixas_sorted[len(caixas_sorted) // 2]\n",
    "print(\"Mediana: \", mediana_caixas_sorted)"
   ],
   "id": "7f25fc76b7af6499",
   "outputs": [
    {
     "name": "stdout",
     "output_type": "stream",
     "text": [
      "Mediana:  34\n"
     ]
    }
   ],
   "execution_count": 83
  },
  {
   "metadata": {
    "ExecuteTime": {
     "end_time": "2025-03-31T21:15:26.964966Z",
     "start_time": "2025-03-31T21:15:26.906984Z"
    }
   },
   "cell_type": "code",
   "source": "print(\"Varianca Populacional: \", var_populacional(caixas))",
   "id": "66b715e3b1f0f331",
   "outputs": [
    {
     "name": "stdout",
     "output_type": "stream",
     "text": [
      "Varianca Populacional:  14759.475644950513\n"
     ]
    }
   ],
   "execution_count": 86
  },
  {
   "metadata": {
    "ExecuteTime": {
     "end_time": "2025-03-31T21:15:38.758420Z",
     "start_time": "2025-03-31T21:15:38.699257Z"
    }
   },
   "cell_type": "code",
   "source": "print(\"Varianca Amostral: \", var_amostral(caixas))",
   "id": "56589c0cbfe5c5b4",
   "outputs": [
    {
     "name": "stdout",
     "output_type": "stream",
     "text": [
      "Varianca Amostral:  14772.979282320093\n"
     ]
    }
   ],
   "execution_count": 87
  },
  {
   "metadata": {
    "ExecuteTime": {
     "end_time": "2025-03-31T21:15:51.500668Z",
     "start_time": "2025-03-31T21:15:51.443205Z"
    }
   },
   "cell_type": "code",
   "source": "print(\"Desvio Padrao Populacional: \", desvio_padrao_populacional(caixas))",
   "id": "c567401c4e9b39da",
   "outputs": [
    {
     "name": "stdout",
     "output_type": "stream",
     "text": [
      "Desvio Padrao Populacional:  121.48858236456014\n"
     ]
    }
   ],
   "execution_count": 88
  },
  {
   "metadata": {
    "ExecuteTime": {
     "end_time": "2025-03-31T21:16:43.872104Z",
     "start_time": "2025-03-31T21:16:43.815267Z"
    }
   },
   "cell_type": "code",
   "source": "print(\"Desvio Padrao Amostral: \", desvio_padrao_amostral(caixas))",
   "id": "cbc33d28fa94a221",
   "outputs": [
    {
     "name": "stdout",
     "output_type": "stream",
     "text": [
      "Desvio Padrao Amostral:  152.86787149027083\n"
     ]
    }
   ],
   "execution_count": 91
  },
  {
   "metadata": {
    "ExecuteTime": {
     "end_time": "2025-03-31T21:17:15.986767Z",
     "start_time": "2025-03-31T21:17:15.928523Z"
    }
   },
   "cell_type": "code",
   "source": "print(\"Coeficiente de Variacao Populacional: \", coeficiente_var_populacional(caixas)*100, \"%\")",
   "id": "2d0c482690e9640",
   "outputs": [
    {
     "name": "stdout",
     "output_type": "stream",
     "text": [
      "Coeficiente de Variacao Populacional:  56.379950429959976 %\n"
     ]
    }
   ],
   "execution_count": 94
  },
  {
   "metadata": {
    "ExecuteTime": {
     "end_time": "2025-03-31T21:17:17.071351Z",
     "start_time": "2025-03-31T21:17:17.014161Z"
    }
   },
   "cell_type": "code",
   "source": "print(\"Coeficiente de Variacao Amostral: \", coeficiente_var_amostral(caixas)*100, \"%\")",
   "id": "f6d6f36cfb68808c",
   "outputs": [
    {
     "name": "stdout",
     "output_type": "stream",
     "text": [
      "Coeficiente de Variacao Amostral:  56.431533184241744 %\n"
     ]
    }
   ],
   "execution_count": 95
  }
 ],
 "metadata": {
  "kernelspec": {
   "display_name": "Python 3",
   "language": "python",
   "name": "python3"
  },
  "language_info": {
   "codemirror_mode": {
    "name": "ipython",
    "version": 2
   },
   "file_extension": ".py",
   "mimetype": "text/x-python",
   "name": "python",
   "nbconvert_exporter": "python",
   "pygments_lexer": "ipython2",
   "version": "2.7.6"
  }
 },
 "nbformat": 4,
 "nbformat_minor": 5
}
